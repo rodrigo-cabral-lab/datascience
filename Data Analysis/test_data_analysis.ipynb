{
 "cells": [
  {
   "cell_type": "markdown",
   "id": "4350c244",
   "metadata": {},
   "source": [
    "## Data Science - Reshape\n",
    "\n",
    "\n",
    "#### Task\n",
    "#### Given a list of numbers and the number of rows (r), reshape the list into a 2-dimensional array. Note that r divides the length of the list evenly.\n",
    "\n",
    "#### Input Format\n",
    "#### First line: an integer (r) indicating the number of rows of the 2-dimensional array\n",
    "#### Next line: numbers separated by the space\n",
    "\n",
    "#### Output Format\n",
    "#### An numpy 2d array of values rounded to the second decimal.\n",
    "\n",
    "#### Sample Input\n",
    "#### 2\n",
    "#### 1.2 0 0.5 -1\n",
    "\n",
    "#### Sample Output\n",
    "#### [[ 1.2 0. ]\n",
    "#### [ 0.5 -1. ]]"
   ]
  },
  {
   "cell_type": "code",
   "execution_count": null,
   "id": "56fb76ae",
   "metadata": {},
   "outputs": [],
   "source": [
    "import numpy as np\n",
    "r = int(input()) \n",
    "lst = [float(x) for x in input().split()]\n",
    "\n",
    "arr_ABD = np.array(lst)\n",
    "arr_ABD = arr_ABD.reshape(r,int(len(lst)/r))\n",
    "print(arr_ABD.round(2))"
   ]
  }
 ],
 "metadata": {
  "kernelspec": {
   "display_name": "Python 3",
   "language": "python",
   "name": "python3"
  },
  "language_info": {
   "codemirror_mode": {
    "name": "ipython",
    "version": 3
   },
   "file_extension": ".py",
   "mimetype": "text/x-python",
   "name": "python",
   "nbconvert_exporter": "python",
   "pygments_lexer": "ipython3",
   "version": "3.8.8"
  }
 },
 "nbformat": 4,
 "nbformat_minor": 5
}
