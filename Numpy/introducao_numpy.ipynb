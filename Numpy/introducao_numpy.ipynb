{
 "cells": [
  {
   "cell_type": "markdown",
   "id": "1e3266ec",
   "metadata": {},
   "source": [
    "## Introdução ao numpy"
   ]
  },
  {
   "cell_type": "code",
   "execution_count": 9,
   "id": "ce3b0349",
   "metadata": {},
   "outputs": [],
   "source": [
    "import numpy as np"
   ]
  },
  {
   "cell_type": "code",
   "execution_count": 10,
   "id": "897f73f9",
   "metadata": {},
   "outputs": [
    {
     "name": "stdout",
     "output_type": "stream",
     "text": [
      "5\n"
     ]
    }
   ],
   "source": [
    "heights = [189, 170, 189, 163, 183, 171, 185, 168, 173, 183, 173, 173, 175, 178, 183, 193, 178, 173, 174, 183, 183, 180, 168, 180 , 170, 178, 182, 180, 183, 178, 182, 188, 175, 179, 183, 193, 182, 183, 177, 185, 188, 188, 182, 185, 191]\n",
    "cnt = 0\n",
    "for height in heights:\n",
    "    if height> 188:\n",
    "        cnt+=1\n",
    "print(cnt)"
   ]
  },
  {
   "cell_type": "code",
   "execution_count": 11,
   "id": "2a811bb9",
   "metadata": {},
   "outputs": [
    {
     "name": "stdout",
     "output_type": "stream",
     "text": [
      "5\n"
     ]
    }
   ],
   "source": [
    "heights_arr = np.array(heights)\n",
    "print((heights_arr>188).sum())"
   ]
  },
  {
   "cell_type": "code",
   "execution_count": 14,
   "id": "53417da1",
   "metadata": {},
   "outputs": [
    {
     "data": {
      "text/plain": [
       "45"
      ]
     },
     "execution_count": 14,
     "metadata": {},
     "output_type": "execute_result"
    }
   ],
   "source": [
    "heights_arr.size"
   ]
  },
  {
   "cell_type": "code",
   "execution_count": 15,
   "id": "834b3d98",
   "metadata": {},
   "outputs": [
    {
     "data": {
      "text/plain": [
       "(45,)"
      ]
     },
     "execution_count": 15,
     "metadata": {},
     "output_type": "execute_result"
    }
   ],
   "source": [
    "heights_arr.shape"
   ]
  },
  {
   "cell_type": "code",
   "execution_count": 37,
   "id": "822d70db",
   "metadata": {},
   "outputs": [
    {
     "data": {
      "text/plain": [
       "(90,)"
      ]
     },
     "execution_count": 37,
     "metadata": {},
     "output_type": "execute_result"
    }
   ],
   "source": [
    "ages = [57, 61, 57, 57, 58, 57, 61, 54, 68, 51, 49, 64, 50, 48, 65, 52, 56, 46, 54, 49, 51, 47, 55, 55, 54, 42, 51, 56, 55, 51, 54, 51, 60, 62, 43, 55, 56, 61, 52, 69, 64, 46, 54, 47, 70]\n",
    "age_arr = np.array(ages)\n",
    "heights_and_ages = heights + ages\n",
    "# convert a list to a numpy array\n",
    "heights_and_ages_arr = np.array(heights_and_ages)\n",
    "heights_and_ages_arr.shape"
   ]
  },
  {
   "cell_type": "code",
   "execution_count": 32,
   "id": "2212b778",
   "metadata": {
    "scrolled": true
   },
   "outputs": [
    {
     "data": {
      "text/plain": [
       "array([[189, 170, 189, 163, 183, 171, 185, 168, 173, 183, 173, 173, 175,\n",
       "        178, 183, 193, 178, 173, 174, 183, 183, 180, 168, 180, 170, 178,\n",
       "        182, 180, 183, 178, 182, 188, 175, 179, 183, 193, 182, 183, 177,\n",
       "        185, 188, 188, 182, 185, 191],\n",
       "       [ 57,  61,  57,  57,  58,  57,  61,  54,  68,  51,  49,  64,  50,\n",
       "         48,  65,  52,  56,  46,  54,  49,  51,  47,  55,  55,  54,  42,\n",
       "         51,  56,  55,  51,  54,  51,  60,  62,  43,  55,  56,  61,  52,\n",
       "         69,  64,  46,  54,  47,  70]])"
      ]
     },
     "execution_count": 32,
     "metadata": {},
     "output_type": "execute_result"
    }
   ],
   "source": [
    "heights_and_ages_arr.reshape((2,45))"
   ]
  },
  {
   "cell_type": "code",
   "execution_count": 25,
   "id": "acdf4ef6",
   "metadata": {},
   "outputs": [
    {
     "data": {
      "text/plain": [
       "dtype('int32')"
      ]
     },
     "execution_count": 25,
     "metadata": {},
     "output_type": "execute_result"
    }
   ],
   "source": [
    "heights_arr.dtype"
   ]
  },
  {
   "cell_type": "code",
   "execution_count": 27,
   "id": "1b8689a4",
   "metadata": {},
   "outputs": [
    {
     "data": {
      "text/plain": [
       "dtype('float64')"
      ]
     },
     "execution_count": 27,
     "metadata": {},
     "output_type": "execute_result"
    }
   ],
   "source": [
    "heights_float = [189.0, 170, 189, 163, 183, 171, 185, 168, 173, 183, 173, 173, 175, 178, 183, 193, 178, 173, 174, 183, 183, 180, 168, 180 , 170, 178, 182, 180, 183, 178, 182, 188, 175, 179, 183, 193, 182, 183, 177, 185, 188, 188, 182, 185, 191]\n",
    "heights_float_arr = np.array(heights_float)\n",
    "heights_float_arr\n",
    "heights_float_arr.dtype"
   ]
  },
  {
   "cell_type": "code",
   "execution_count": 45,
   "id": "f9b96ca2",
   "metadata": {},
   "outputs": [
    {
     "data": {
      "text/plain": [
       "array([[189,  57],\n",
       "       [170,  61],\n",
       "       [189,  57]])"
      ]
     },
     "execution_count": 45,
     "metadata": {},
     "output_type": "execute_result"
    }
   ],
   "source": [
    "heights_arr = np.array(heights)\n",
    "heights_arr = heights_arr.reshape ((45,1))\n",
    "age_arr = age_arr.reshape ((45,1))\n",
    "height_age_arr = np.hstack((heights_arr, age_arr))\n",
    "height_age_arr.shape\n",
    "height_age_arr[:3,]"
   ]
  },
  {
   "cell_type": "code",
   "execution_count": 47,
   "id": "62a0b775",
   "metadata": {},
   "outputs": [
    {
     "data": {
      "text/plain": [
       "array([[189, 170, 189],\n",
       "       [ 57,  61,  57]])"
      ]
     },
     "execution_count": 47,
     "metadata": {},
     "output_type": "execute_result"
    }
   ],
   "source": [
    "heights_arr = heights_arr.reshape((1,45))\n",
    "age_arr = age_arr.reshape((1,45))\n",
    "height_age_arr = np.vstack((heights_arr, age_arr))\n",
    "height_age_arr.shape \n",
    "height_age_arr[:,:3]"
   ]
  },
  {
   "cell_type": "code",
   "execution_count": 50,
   "id": "8c630e9c",
   "metadata": {},
   "outputs": [
    {
     "data": {
      "text/plain": [
       "(1, 90)"
      ]
     },
     "execution_count": 50,
     "metadata": {},
     "output_type": "execute_result"
    }
   ],
   "source": [
    "height_age_arr = np.concatenate((heights_arr, age_arr), axis=1)\n",
    "height_age_arr.shape"
   ]
  },
  {
   "cell_type": "code",
   "execution_count": 54,
   "id": "96205405",
   "metadata": {},
   "outputs": [
    {
     "data": {
      "text/plain": [
       "(2, 45)"
      ]
     },
     "execution_count": 54,
     "metadata": {},
     "output_type": "execute_result"
    }
   ],
   "source": [
    "height_age_arr = np.concatenate((heights_arr, age_arr), axis = 0)\n",
    "height_age_arr.shape"
   ]
  },
  {
   "cell_type": "code",
   "execution_count": 55,
   "id": "905dc538",
   "metadata": {},
   "outputs": [
    {
     "data": {
      "text/plain": [
       "array([6.2007876, 1.8700788])"
      ]
     },
     "execution_count": 55,
     "metadata": {},
     "output_type": "execute_result"
    }
   ],
   "source": [
    "height_age_arr[:,0]*0.0328084"
   ]
  },
  {
   "cell_type": "code",
   "execution_count": 58,
   "id": "21547f77",
   "metadata": {},
   "outputs": [
    {
     "data": {
      "text/plain": [
       "array([246, 231, 246, 220, 241, 228, 246, 222, 241, 234, 222, 237, 225,\n",
       "       226, 248, 245, 234, 219, 228, 232, 234, 227, 223, 235, 224, 220,\n",
       "       233, 236, 238, 229, 236, 239, 235, 241, 226, 248, 238, 244, 229,\n",
       "       254, 252, 234, 236, 232, 261])"
      ]
     },
     "execution_count": 58,
     "metadata": {},
     "output_type": "execute_result"
    }
   ],
   "source": [
    "height_age_arr.sum(axis=0)"
   ]
  },
  {
   "cell_type": "code",
   "execution_count": 59,
   "id": "7d2fc7f8",
   "metadata": {},
   "outputs": [
    {
     "data": {
      "text/plain": [
       "array([False, False])"
      ]
     },
     "execution_count": 59,
     "metadata": {},
     "output_type": "execute_result"
    }
   ],
   "source": [
    "height_age_arr[:,1]<55"
   ]
  },
  {
   "cell_type": "code",
   "execution_count": 60,
   "id": "06946828",
   "metadata": {},
   "outputs": [
    {
     "data": {
      "text/plain": [
       "array([False, False])"
      ]
     },
     "execution_count": 60,
     "metadata": {},
     "output_type": "execute_result"
    }
   ],
   "source": [
    "height_age_arr[:,1]==51"
   ]
  },
  {
   "cell_type": "code",
   "execution_count": 64,
   "id": "6a041a14",
   "metadata": {},
   "outputs": [
    {
     "data": {
      "text/plain": [
       "0"
      ]
     },
     "execution_count": 64,
     "metadata": {},
     "output_type": "execute_result"
    }
   ],
   "source": [
    "(height_age_arr[:,1]==51).sum()"
   ]
  },
  {
   "cell_type": "code",
   "execution_count": 65,
   "id": "f824e8ca",
   "metadata": {},
   "outputs": [
    {
     "data": {
      "text/plain": [
       "1"
      ]
     },
     "execution_count": 65,
     "metadata": {},
     "output_type": "execute_result"
    }
   ],
   "source": [
    "mask = height_age_arr[:,0]>=182\n",
    "mask.sum()"
   ]
  },
  {
   "cell_type": "code",
   "execution_count": 67,
   "id": "a6aed638",
   "metadata": {},
   "outputs": [
    {
     "data": {
      "text/plain": [
       "(1, 45)"
      ]
     },
     "execution_count": 67,
     "metadata": {},
     "output_type": "execute_result"
    }
   ],
   "source": [
    "tall_presidents = height_age_arr[mask,]\n",
    "tall_presidents.shape"
   ]
  },
  {
   "cell_type": "code",
   "execution_count": 68,
   "id": "9cc150b0",
   "metadata": {},
   "outputs": [
    {
     "data": {
      "text/plain": [
       "array([], shape=(0, 45), dtype=int32)"
      ]
     },
     "execution_count": 68,
     "metadata": {},
     "output_type": "execute_result"
    }
   ],
   "source": [
    "mask = (height_age_arr[:,0]>=182)&(height_age_arr[:,1]<=50)\n",
    "height_age_arr[mask,]"
   ]
  }
 ],
 "metadata": {
  "kernelspec": {
   "display_name": "Python 3",
   "language": "python",
   "name": "python3"
  },
  "language_info": {
   "codemirror_mode": {
    "name": "ipython",
    "version": 3
   },
   "file_extension": ".py",
   "mimetype": "text/x-python",
   "name": "python",
   "nbconvert_exporter": "python",
   "pygments_lexer": "ipython3",
   "version": "3.8.8"
  }
 },
 "nbformat": 4,
 "nbformat_minor": 5
}
