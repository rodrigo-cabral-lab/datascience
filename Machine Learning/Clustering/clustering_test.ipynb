{
 "cells": [
  {
   "cell_type": "markdown",
   "id": "5e21ee6c",
   "metadata": {},
   "source": [
    "## Data Science - Pandas Pandas Pandas\n",
    "\n",
    "### Finding the next centroid\n",
    "\n",
    "#### Unsupervised learning algorithm clustering involves updating the centroid of each cluster. Here we find the next centroids for given data points and initial centroids.\n",
    "\n",
    "### Task\n",
    "#### Assume that there are two clusters among the given two-dimensional data points and two random points (0, 0), and (2, 2) are the initial cluster centroids. Calculate the euclidean distance between each data point and each of the centroid, assign each data point to its nearest centroid, then calculate the new centroid. If there's a tie, assign the data point to the cluster with centroid (0, 0). If none of the data points were assigned to the given centroid, return None.\n",
    "\n",
    "### Input Format\n",
    "#### First line: an integer to indicate the number of data points (n)\n",
    "#### Next n lines: two numeric values per each line to represent a data point in two dimensional space.\n",
    "\n",
    "### Output Format\n",
    "#### Two lists for two centroids. Numbers are rounded to the second decimal place.\n",
    "\n",
    "#### Sample Input\n",
    "#### 3\n",
    "#### 1 0\n",
    "#### 0 .5\n",
    "#### 4 0\n",
    "\n",
    "#### Sample Output\n",
    "#### [0.5 0.25]\n",
    "#### [4. 0.]"
   ]
  },
  {
   "cell_type": "markdown",
   "id": "1c684d54",
   "metadata": {},
   "source": [
    "### Explanation\n",
    "\n",
    "#### There are 3 data points and we would like to identify two clusters among them. Initial centroids are given (0, 0), and (2, 2). The distances between the first data point (1, 0) and each of the centroids are 1.0 and 2.24, rounded to the second decimal place. The first data point is closter to (0, 0), thus assigned the 0-th cluster. Similarly data point (0, .5) is closer to (0, 0) than to (2, 2), also assigned to the 0th cluster; while (4, 0) is closter to (2, 2), thus assigned to the 1st cluster. To calculate the new centroids, take the mean of all data points in the 0-th and 1st cluster, respectively. Hence the results are [0.5 0.25] and [4. 0.]."
   ]
  },
  {
   "cell_type": "code",
   "execution_count": null,
   "id": "153a6126",
   "metadata": {},
   "outputs": [],
   "source": [
    "import math \n",
    "import numpy as np\n",
    "\n",
    "n = int(input()) \n",
    "ce1=[0,0] \n",
    "ce2=[2,2] \n",
    "cl1=np.empty([0,2], float)\n",
    "cl2=np.empty([0,2], float)\n",
    "\n",
    "for i in range(n):\n",
    "    x = [float(j) for j in input().split()]\n",
    "    d21 = (np.array(ce1)-np.array(x))**2\n",
    "    d1=math.sqrt(d21.sum())\n",
    "    d2 = math.sqrt(((np.array(ce2)-np.array(x))**2).sum()) \n",
    "    if d1<=d2:\n",
    "       cl1 = np.append(cl1, np.array([x]), axis=0) \n",
    "    else: \n",
    "       cl2 = np.append(cl2, np.array([x]), axis=0)  \n",
    "if cl1.shape[0]!=0:\n",
    "   print(np.mean(cl1,axis=0).round(2))\n",
    "else:\n",
    "   print(None)\n",
    "if cl2.shape[0]!=0:\n",
    "   print(np.mean(cl2,axis=0).round(2))\n",
    "else:\n",
    "   print(None)"
   ]
  }
 ],
 "metadata": {
  "kernelspec": {
   "display_name": "Python 3",
   "language": "python",
   "name": "python3"
  },
  "language_info": {
   "codemirror_mode": {
    "name": "ipython",
    "version": 3
   },
   "file_extension": ".py",
   "mimetype": "text/x-python",
   "name": "python",
   "nbconvert_exporter": "python",
   "pygments_lexer": "ipython3",
   "version": "3.8.8"
  }
 },
 "nbformat": 4,
 "nbformat_minor": 5
}
