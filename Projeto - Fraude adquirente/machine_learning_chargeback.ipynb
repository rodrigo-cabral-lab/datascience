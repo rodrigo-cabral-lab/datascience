{
 "cells": [
  {
   "cell_type": "markdown",
   "id": "17e5d8ae",
   "metadata": {},
   "source": [
    "# Modelos de aprendizagem de máquina para detecção de fraudes"
   ]
  },
  {
   "cell_type": "markdown",
   "id": "1c3d431b",
   "metadata": {},
   "source": [
    "O alto volume de transações e a necessidade de combater as fraudes abrem espaço para aplicação de técnicas de aprendizagem de máquina, entre elas, os classificadores. A vantagem da aplicação é modelar o padrão e desenvolver sistemas de operação para automatizar o processo de detecção de fraudes e consequentemente evitar chargeback, área estratégica de uma empresa adquirente.\n",
    "Por conta da pandemia, houve impactos significativos no padrão de detecção de fraude, o que exige do modelo de ML uma boa flexibilidade para detecção acurada dos dados estudados (Gimenez, 2021). \n",
    "\n",
    "Referência:\n",
    "\n",
    "Gimenez, R. P., Impactos da pandemia nos modelos de detecção de fraude, FGV, 2021. \n",
    "\n",
    "Tendo em vista a importância da aplicação de machine learning para detecção de fraude, a seguir serão apresentados os modelos x, y e y, comparando o desempenho de cada modelo. \n",
    "\n",
    "O dataset ultilizado neste estudo foi obtido no link a seguir: https://gist.github.com/cloudwalk-tests/76993838e65d7e0f988f40f1b1909c97#file-transactional-sample-csv"
   ]
  },
  {
   "cell_type": "code",
   "execution_count": null,
   "id": "61941bba",
   "metadata": {},
   "outputs": [],
   "source": []
  }
 ],
 "metadata": {
  "kernelspec": {
   "display_name": "Python 3",
   "language": "python",
   "name": "python3"
  },
  "language_info": {
   "codemirror_mode": {
    "name": "ipython",
    "version": 3
   },
   "file_extension": ".py",
   "mimetype": "text/x-python",
   "name": "python",
   "nbconvert_exporter": "python",
   "pygments_lexer": "ipython3",
   "version": "3.8.8"
  }
 },
 "nbformat": 4,
 "nbformat_minor": 5
}
