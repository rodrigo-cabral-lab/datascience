{
 "cells": [
  {
   "cell_type": "markdown",
   "id": "352bc82e",
   "metadata": {},
   "source": [
    "## número par \n",
    "### Crie um programa que leia um número e mostre os números pares até esse número, inclusive ele mesmo.\n",
    "### Entrada\n",
    "### Você receberá 1 valor inteiro N, onde N > 0.\n",
    "### Saída\n",
    "### Exiba todos os números pares até o valor de entrada, sendo um em cada linha."
   ]
  },
  {
   "cell_type": "code",
   "execution_count": null,
   "id": "6744d026",
   "metadata": {},
   "outputs": [],
   "source": [
    "n = int(input())\n",
    "\n",
    "for x in range(1,n+1):\n",
    "    if x % 2 == 0:\n",
    "     print(x)"
   ]
  }
 ],
 "metadata": {
  "kernelspec": {
   "display_name": "Python 3",
   "language": "python",
   "name": "python3"
  },
  "language_info": {
   "codemirror_mode": {
    "name": "ipython",
    "version": 3
   },
   "file_extension": ".py",
   "mimetype": "text/x-python",
   "name": "python",
   "nbconvert_exporter": "python",
   "pygments_lexer": "ipython3",
   "version": "3.8.8"
  }
 },
 "nbformat": 4,
 "nbformat_minor": 5
}
