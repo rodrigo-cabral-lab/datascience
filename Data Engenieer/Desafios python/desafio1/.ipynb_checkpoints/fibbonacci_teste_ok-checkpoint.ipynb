{
 "cells": [
  {
   "cell_type": "markdown",
   "id": "0d9d011a",
   "metadata": {},
   "source": [
    "## A seguinte sequência de números 0 1 1 2 3 5 8 13 21... é conhecida como série de Fibonacci. Nessa sequência, cada número, depois dos 2 primeiros, é igual à soma dos 2 anteriores. Escreva um algoritmo que leia um inteiro N (N < 46) e mostre os N primeiros números dessa série."
   ]
  },
  {
   "cell_type": "code",
   "execution_count": null,
   "id": "ca9eab97",
   "metadata": {},
   "outputs": [],
   "source": [
    "n = int(input())\n",
    "\n",
    "a = 0\n",
    "b = 1\n",
    "n= n-1\n",
    "fib_list = [a]\n",
    "\n",
    "for i in range(0,n):\n",
    "  c = a + b\n",
    "  a = b\n",
    "  b = c\n",
    "  fib_list.append(a)\n",
    "\n",
    "\n",
    "fib_string = (' '.join(str(x) for x in fib_list))\n",
    "print(fib_string)"
   ]
  }
 ],
 "metadata": {
  "kernelspec": {
   "display_name": "Python 3",
   "language": "python",
   "name": "python3"
  }
 },
 "nbformat": 4,
 "nbformat_minor": 5
}
