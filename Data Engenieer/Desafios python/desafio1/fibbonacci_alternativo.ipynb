{
 "cells": [
  {
   "cell_type": "code",
   "execution_count": 8,
   "id": "904f79b3",
   "metadata": {},
   "outputs": [],
   "source": [
    "def leiaInt(msg):\n",
    "    ok = False\n",
    "    valor = 0\n",
    "    while True:\n",
    "        n=str(input(msg))\n",
    "        if n.isnumeric() and int(n) < 46:\n",
    "            valor = int(n)\n",
    "            ok = True\n",
    "        else:\n",
    "            print('Erro! Digite um número válido!')\n",
    "        if ok:\n",
    "            break\n",
    "    return valor"
   ]
  },
  {
   "cell_type": "code",
   "execution_count": 18,
   "id": "8b8b0f7f",
   "metadata": {},
   "outputs": [
    {
     "name": "stdout",
     "output_type": "stream",
     "text": [
      "Por favor, digite um número n, sendo 0 < n < 46.10\n"
     ]
    },
    {
     "data": {
      "text/plain": [
       "10"
      ]
     },
     "execution_count": 18,
     "metadata": {},
     "output_type": "execute_result"
    }
   ],
   "source": [
    "n = leiaInt('Por favor, digite um número n, sendo 0 < n < 46.')\n",
    "n"
   ]
  },
  {
   "cell_type": "code",
   "execution_count": 19,
   "id": "15e7a6f3",
   "metadata": {},
   "outputs": [
    {
     "name": "stdout",
     "output_type": "stream",
     "text": [
      "0 1 1 2 3 5 8 13 21 34\n"
     ]
    }
   ],
   "source": [
    "fib_list = []\n",
    "n = n - 1\n",
    "a=1\n",
    "b=0\n",
    "for i in range(n+1):\n",
    "    c=a+b\n",
    "    a=b\n",
    "    b=c\n",
    "    fib_list.append(str(a))\n",
    "    \n",
    "\n",
    "fib_string = ' '.join(fib_list)\n",
    "print(fib_string)"
   ]
  }
 ],
 "metadata": {
  "kernelspec": {
   "display_name": "Python 3",
   "language": "python",
   "name": "python3"
  },
  "language_info": {
   "codemirror_mode": {
    "name": "ipython",
    "version": 3
   },
   "file_extension": ".py",
   "mimetype": "text/x-python",
   "name": "python",
   "nbconvert_exporter": "python",
   "pygments_lexer": "ipython3",
   "version": "3.8.8"
  }
 },
 "nbformat": 4,
 "nbformat_minor": 5
}
