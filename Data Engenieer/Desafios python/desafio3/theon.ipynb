{
 "cells": [
  {
   "cell_type": "markdown",
   "id": "0b747638",
   "metadata": {},
   "source": [
    "#### Ramsay: \"(...) você vence se conseguir adivinhar quem eu sou e por que estou torturando você.\"\n",
    "#### Theon deve pensar rápido e adivinhar quem é seu algoz! Entretanto, Ramsay já decidiu o que ele irá fazer depois que Theon der sua resposta.\n",
    "#### Theon pode dizer que seu algoz é alguma dentre N pessoas. Considere que as pessoas são numeradas de 1 a N. Se Theon responder que seu algoz é a pessoa i, Ramsay irá atingi-lo Ti vezes.\n",
    "#### Sua tarefa é ajudar Theon a determinar qual deve ser sua resposta de forma a minimizar  o número de vezes que ele será atingido.\n",
    "#### Entrada\n",
    "#### A primeira linha contém um inteiro N (1 ≤ N ≤ 100). A segunda linha contém N inteiros T1, T2, ..., TN (0 ≤ Ti ≤ 20).\n",
    "#### Saída\n",
    "#### Imprima uma linha contendo o número da pessoa que Theon deve dizer ser seu algoz. Se existe mais de uma resposta possível, imprima a menor."
   ]
  },
  {
   "cell_type": "code",
   "execution_count": null,
   "id": "2809ffb3",
   "metadata": {},
   "outputs": [],
   "source": [
    "import sys\n",
    "\n",
    "N = int(input())\n",
    "pessoas = sys.stdin.readline().split()\n",
    "lowest_pos = 0\n",
    "\n",
    "for x in range(N):\n",
    "  if x == 0:\n",
    "    lowest = pessoas[x]\n",
    "    continue\n",
    "  if  pessoas[x] < lowest:\n",
    "    lowest = pessoas[x]\n",
    "    lowest_pos = x\n",
    "    \n",
    "print(lowest_pos + 1)"
   ]
  }
 ],
 "metadata": {
  "kernelspec": {
   "display_name": "Python 3",
   "language": "python",
   "name": "python3"
  },
  "language_info": {
   "codemirror_mode": {
    "name": "ipython",
    "version": 3
   },
   "file_extension": ".py",
   "mimetype": "text/x-python",
   "name": "python",
   "nbconvert_exporter": "python",
   "pygments_lexer": "ipython3",
   "version": "3.8.8"
  }
 },
 "nbformat": 4,
 "nbformat_minor": 5
}
