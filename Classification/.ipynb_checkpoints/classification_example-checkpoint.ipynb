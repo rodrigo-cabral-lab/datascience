{
 "cells": [
  {
   "cell_type": "markdown",
   "id": "1984eb8f",
   "metadata": {},
   "source": [
    "## k nearest neighbors "
   ]
  },
  {
   "cell_type": "code",
   "execution_count": 1,
   "id": "21ceaa14",
   "metadata": {},
   "outputs": [],
   "source": [
    "import pandas as pd\n",
    "import matplotlib.pyplot as plt\n",
    "import numpy as np"
   ]
  },
  {
   "cell_type": "code",
   "execution_count": 2,
   "id": "e6f42ec8",
   "metadata": {},
   "outputs": [],
   "source": [
    "# Alternativa para ler o dataset\n",
    "#from sklearn.datasets import load_iris\n",
    "#iris=load_iris()\n",
    "#df = pd.DataFrame(iris.data,columns=iris.feature_names) \n",
    "#df['species'] = iris.target \n",
    "#df.head()"
   ]
  },
  {
   "cell_type": "code",
   "execution_count": 3,
   "id": "6971fa31",
   "metadata": {},
   "outputs": [
    {
     "data": {
      "text/plain": [
       "(150, 5)"
      ]
     },
     "execution_count": 3,
     "metadata": {},
     "output_type": "execute_result"
    }
   ],
   "source": [
    "iris = pd.read_excel('iris.xlsx')\n",
    "iris.shape"
   ]
  },
  {
   "cell_type": "code",
   "execution_count": 4,
   "id": "a85713d3",
   "metadata": {},
   "outputs": [
    {
     "data": {
      "text/html": [
       "<div>\n",
       "<style scoped>\n",
       "    .dataframe tbody tr th:only-of-type {\n",
       "        vertical-align: middle;\n",
       "    }\n",
       "\n",
       "    .dataframe tbody tr th {\n",
       "        vertical-align: top;\n",
       "    }\n",
       "\n",
       "    .dataframe thead th {\n",
       "        text-align: right;\n",
       "    }\n",
       "</style>\n",
       "<table border=\"1\" class=\"dataframe\">\n",
       "  <thead>\n",
       "    <tr style=\"text-align: right;\">\n",
       "      <th></th>\n",
       "      <th>sepal_length</th>\n",
       "      <th>sepal_width</th>\n",
       "      <th>petal_length</th>\n",
       "      <th>petal_width</th>\n",
       "      <th>species</th>\n",
       "    </tr>\n",
       "  </thead>\n",
       "  <tbody>\n",
       "    <tr>\n",
       "      <th>0</th>\n",
       "      <td>5.1</td>\n",
       "      <td>3.5</td>\n",
       "      <td>1.4</td>\n",
       "      <td>0.2</td>\n",
       "      <td>setosa</td>\n",
       "    </tr>\n",
       "    <tr>\n",
       "      <th>1</th>\n",
       "      <td>4.9</td>\n",
       "      <td>3.0</td>\n",
       "      <td>1.4</td>\n",
       "      <td>0.2</td>\n",
       "      <td>setosa</td>\n",
       "    </tr>\n",
       "    <tr>\n",
       "      <th>2</th>\n",
       "      <td>4.7</td>\n",
       "      <td>3.2</td>\n",
       "      <td>1.3</td>\n",
       "      <td>0.2</td>\n",
       "      <td>setosa</td>\n",
       "    </tr>\n",
       "    <tr>\n",
       "      <th>3</th>\n",
       "      <td>4.6</td>\n",
       "      <td>3.1</td>\n",
       "      <td>1.5</td>\n",
       "      <td>0.2</td>\n",
       "      <td>setosa</td>\n",
       "    </tr>\n",
       "    <tr>\n",
       "      <th>4</th>\n",
       "      <td>5.0</td>\n",
       "      <td>3.6</td>\n",
       "      <td>1.4</td>\n",
       "      <td>0.2</td>\n",
       "      <td>setosa</td>\n",
       "    </tr>\n",
       "  </tbody>\n",
       "</table>\n",
       "</div>"
      ],
      "text/plain": [
       "   sepal_length  sepal_width  petal_length  petal_width species\n",
       "0           5.1          3.5           1.4          0.2  setosa\n",
       "1           4.9          3.0           1.4          0.2  setosa\n",
       "2           4.7          3.2           1.3          0.2  setosa\n",
       "3           4.6          3.1           1.5          0.2  setosa\n",
       "4           5.0          3.6           1.4          0.2  setosa"
      ]
     },
     "execution_count": 4,
     "metadata": {},
     "output_type": "execute_result"
    }
   ],
   "source": [
    "iris.head()"
   ]
  },
  {
   "cell_type": "code",
   "execution_count": 5,
   "id": "ce123c6c",
   "metadata": {},
   "outputs": [
    {
     "data": {
      "text/html": [
       "<div>\n",
       "<style scoped>\n",
       "    .dataframe tbody tr th:only-of-type {\n",
       "        vertical-align: middle;\n",
       "    }\n",
       "\n",
       "    .dataframe tbody tr th {\n",
       "        vertical-align: top;\n",
       "    }\n",
       "\n",
       "    .dataframe thead th {\n",
       "        text-align: right;\n",
       "    }\n",
       "</style>\n",
       "<table border=\"1\" class=\"dataframe\">\n",
       "  <thead>\n",
       "    <tr style=\"text-align: right;\">\n",
       "      <th></th>\n",
       "      <th>sepal_length</th>\n",
       "      <th>sepal_width</th>\n",
       "      <th>petal_length</th>\n",
       "      <th>petal_width</th>\n",
       "    </tr>\n",
       "  </thead>\n",
       "  <tbody>\n",
       "    <tr>\n",
       "      <th>count</th>\n",
       "      <td>150.000000</td>\n",
       "      <td>150.000000</td>\n",
       "      <td>150.000000</td>\n",
       "      <td>150.000000</td>\n",
       "    </tr>\n",
       "    <tr>\n",
       "      <th>mean</th>\n",
       "      <td>5.843333</td>\n",
       "      <td>3.054000</td>\n",
       "      <td>3.758667</td>\n",
       "      <td>1.198667</td>\n",
       "    </tr>\n",
       "    <tr>\n",
       "      <th>std</th>\n",
       "      <td>0.828066</td>\n",
       "      <td>0.433594</td>\n",
       "      <td>1.764420</td>\n",
       "      <td>0.763161</td>\n",
       "    </tr>\n",
       "    <tr>\n",
       "      <th>min</th>\n",
       "      <td>4.300000</td>\n",
       "      <td>2.000000</td>\n",
       "      <td>1.000000</td>\n",
       "      <td>0.100000</td>\n",
       "    </tr>\n",
       "    <tr>\n",
       "      <th>25%</th>\n",
       "      <td>5.100000</td>\n",
       "      <td>2.800000</td>\n",
       "      <td>1.600000</td>\n",
       "      <td>0.300000</td>\n",
       "    </tr>\n",
       "    <tr>\n",
       "      <th>50%</th>\n",
       "      <td>5.800000</td>\n",
       "      <td>3.000000</td>\n",
       "      <td>4.350000</td>\n",
       "      <td>1.300000</td>\n",
       "    </tr>\n",
       "    <tr>\n",
       "      <th>75%</th>\n",
       "      <td>6.400000</td>\n",
       "      <td>3.300000</td>\n",
       "      <td>5.100000</td>\n",
       "      <td>1.800000</td>\n",
       "    </tr>\n",
       "    <tr>\n",
       "      <th>max</th>\n",
       "      <td>7.900000</td>\n",
       "      <td>4.400000</td>\n",
       "      <td>6.900000</td>\n",
       "      <td>2.500000</td>\n",
       "    </tr>\n",
       "  </tbody>\n",
       "</table>\n",
       "</div>"
      ],
      "text/plain": [
       "       sepal_length  sepal_width  petal_length  petal_width\n",
       "count    150.000000   150.000000    150.000000   150.000000\n",
       "mean       5.843333     3.054000      3.758667     1.198667\n",
       "std        0.828066     0.433594      1.764420     0.763161\n",
       "min        4.300000     2.000000      1.000000     0.100000\n",
       "25%        5.100000     2.800000      1.600000     0.300000\n",
       "50%        5.800000     3.000000      4.350000     1.300000\n",
       "75%        6.400000     3.300000      5.100000     1.800000\n",
       "max        7.900000     4.400000      6.900000     2.500000"
      ]
     },
     "execution_count": 5,
     "metadata": {},
     "output_type": "execute_result"
    }
   ],
   "source": [
    "iris.describe()"
   ]
  },
  {
   "cell_type": "code",
   "execution_count": 6,
   "id": "d3bd0e51",
   "metadata": {},
   "outputs": [
    {
     "data": {
      "text/plain": [
       "species\n",
       "setosa        50\n",
       "versicolor    50\n",
       "virginica     50\n",
       "dtype: int64"
      ]
     },
     "execution_count": 6,
     "metadata": {},
     "output_type": "execute_result"
    }
   ],
   "source": [
    "iris.groupby('species').size()"
   ]
  },
  {
   "cell_type": "code",
   "execution_count": 7,
   "id": "f2b1c1bc",
   "metadata": {},
   "outputs": [
    {
     "data": {
      "text/plain": [
       "virginica     50\n",
       "versicolor    50\n",
       "setosa        50\n",
       "Name: species, dtype: int64"
      ]
     },
     "execution_count": 7,
     "metadata": {},
     "output_type": "execute_result"
    }
   ],
   "source": [
    "iris['species'].value_counts() # importante saber se os dados estão balanceados"
   ]
  },
  {
   "cell_type": "code",
   "execution_count": 8,
   "id": "497037f2",
   "metadata": {},
   "outputs": [
    {
     "data": {
      "image/png": "[encoded data removed]",
      "text/plain": [
       "<Figure size 432x288 with 4 Axes>"
      ]
     },
     "metadata": {
      "needs_background": "light"
     },
     "output_type": "display_data"
    }
   ],
   "source": [
    "iris.hist();"
   ]
  },
  {
   "cell_type": "code",
   "execution_count": 9,
   "id": "f94f9e96",
   "metadata": {},
   "outputs": [
    {
     "data": {
      "text/plain": [
       "<function matplotlib.pyplot.show(close=None, block=None)>"
      ]
     },
     "execution_count": 9,
     "metadata": {},
     "output_type": "execute_result"
    },
    {
     "data": {
      "image/png": "[encoded data removed]",
      "text/plain": [
       "<Figure size 432x288 with 1 Axes>"
      ]
     },
     "metadata": {
      "needs_background": "light"
     },
     "output_type": "display_data"
    }
   ],
   "source": [
    "# build a dict mapping species to an integer code\n",
    "inv_name_dict = {'setosa':0, 'versicolor':1, 'virginica':2}\n",
    "\n",
    "# build integer color code 0/1/2\n",
    "colors = [inv_name_dict[item] for item in iris['species']]\n",
    "\n",
    "#scatter plot\n",
    "scatter = plt.scatter(iris['sepal_length'], iris['sepal_width'], c=colors)\n",
    "plt.xlabel('sepal length (cm)')\n",
    "plt.ylabel('sepal width (cm)')\n",
    "\n",
    "## add legend \n",
    "plt.legend(handles=scatter.legend_elements()[0], labels=inv_name_dict.keys())\n",
    "plt.show"
   ]
  },
  {
   "cell_type": "code",
   "execution_count": 10,
   "id": "32b9dab6",
   "metadata": {},
   "outputs": [
    {
     "data": {
      "image/png": "[encoded data removed]",
      "text/plain": [
       "<Figure size 432x288 with 1 Axes>"
      ]
     },
     "metadata": {
      "needs_background": "light"
     },
     "output_type": "display_data"
    }
   ],
   "source": [
    "#scatter plot\n",
    "scatter = plt.scatter(iris['petal_length'], iris['petal_width'], c=colors)\n",
    "plt.xlabel('petal length (cm)')\n",
    "plt.ylabel('petal width (cm)')\n",
    "\n",
    "# add legend\n",
    "plt.legend(handles=scatter.legend_elements()[0], labels=inv_name_dict.keys())\n",
    "plt.show()"
   ]
  },
  {
   "cell_type": "code",
   "execution_count": 11,
   "id": "c4f06455",
   "metadata": {},
   "outputs": [],
   "source": [
    "from sklearn.neighbors import KNeighborsClassifier "
   ]
  },
  {
   "cell_type": "code",
   "execution_count": 12,
   "id": "9ad381cd",
   "metadata": {},
   "outputs": [],
   "source": [
    "X = iris[['petal_length', 'petal_width']]\n",
    "y = iris['species']"
   ]
  },
  {
   "cell_type": "code",
   "execution_count": 13,
   "id": "3d8ca73a",
   "metadata": {},
   "outputs": [],
   "source": [
    "from sklearn.model_selection import train_test_split\n",
    "X_train, X_test, y_train, y_test = train_test_split(X, y, test_size=0.30, random_state=1, stratify=y)"
   ]
  },
  {
   "cell_type": "code",
   "execution_count": 14,
   "id": "ab4aebf8",
   "metadata": {},
   "outputs": [
    {
     "data": {
      "text/plain": [
       "virginica     15\n",
       "setosa        15\n",
       "versicolor    15\n",
       "Name: species, dtype: int64"
      ]
     },
     "execution_count": 14,
     "metadata": {},
     "output_type": "execute_result"
    }
   ],
   "source": [
    "y_train.value_counts()\n",
    "y_test.value_counts()"
   ]
  },
  {
   "cell_type": "code",
   "execution_count": 15,
   "id": "dad7cc36",
   "metadata": {},
   "outputs": [],
   "source": [
    "knn = KNeighborsClassifier(n_neighbors=5) #k=5 escolhido de maneira aleatória"
   ]
  },
  {
   "cell_type": "code",
   "execution_count": 16,
   "id": "75e782bb",
   "metadata": {},
   "outputs": [
    {
     "data": {
      "text/plain": [
       "KNeighborsClassifier()"
      ]
     },
     "execution_count": 16,
     "metadata": {},
     "output_type": "execute_result"
    }
   ],
   "source": [
    "knn.fit(X_train, y_train)"
   ]
  },
  {
   "cell_type": "markdown",
   "id": "740bcae2",
   "metadata": {},
   "source": [
    "#### We use most the default values for the parameters, e.g., metric = 'minkowski' and p = 2 together defines that the distance is euclidean distance."
   ]
  },
  {
   "cell_type": "code",
   "execution_count": 17,
   "id": "628e07c1",
   "metadata": {},
   "outputs": [],
   "source": [
    "pred = knn.predict(X_test) ## previsão do modelo"
   ]
  },
  {
   "cell_type": "code",
   "execution_count": 18,
   "id": "f1f7a382",
   "metadata": {},
   "outputs": [
    {
     "data": {
      "text/plain": [
       "array(['virginica', 'setosa', 'setosa', 'versicolor', 'versicolor'],\n",
       "      dtype=object)"
      ]
     },
     "execution_count": 18,
     "metadata": {},
     "output_type": "execute_result"
    }
   ],
   "source": [
    "pred[:5]\n",
    "# ['virginica', 'setosa', 'setosa', 'versicolor', 'versicolor']"
   ]
  },
  {
   "cell_type": "markdown",
   "id": "82d645a0",
   "metadata": {},
   "source": [
    "#### Of all classification algorithms implemented in scikit learn, there is an additional method 'predict_prob'. Instead of splitting the label, it outputs the probability for the target in array form. Let’s take a look at what the predicted probabilities are for the 11th and 12th flowers:"
   ]
  },
  {
   "cell_type": "code",
   "execution_count": 19,
   "id": "858ecc40",
   "metadata": {},
   "outputs": [
    {
     "data": {
      "text/plain": [
       "array([[1. , 0. , 0. ],\n",
       "       [0. , 0.2, 0.8]])"
      ]
     },
     "execution_count": 19,
     "metadata": {},
     "output_type": "execute_result"
    }
   ],
   "source": [
    "y_pred_prob = knn.predict_proba(X_test)\n",
    "y_pred_prob[10:12]\n",
    "# [[1.,0.,0.], [0.,0.2,0.8]]"
   ]
  },
  {
   "cell_type": "markdown",
   "id": "1ff9a9d4",
   "metadata": {},
   "source": [
    "#### For example, the probability of the 11th flower being predicted an iris-setosa is 1, an iris-versicolor and an iris-virginica are both 0. For the next flower, there is a 20% chance that it would be classified as iris-versicolor but 80% chance to be iris-virginica. What it tells us is that of the five nearest neighbours of the 12th flower in the testing set, 1 is an iris-versicolor, the rest 4 are iris-virginica. To see the corresponding predictions:"
   ]
  },
  {
   "cell_type": "code",
   "execution_count": 20,
   "id": "a3328586",
   "metadata": {},
   "outputs": [
    {
     "data": {
      "text/plain": [
       "array(['setosa', 'virginica'], dtype=object)"
      ]
     },
     "execution_count": 20,
     "metadata": {},
     "output_type": "execute_result"
    }
   ],
   "source": [
    "y_pred=knn.predict(X_test)\n",
    "y_pred[10:12]\n",
    "# ['setosa','virginica']"
   ]
  },
  {
   "cell_type": "markdown",
   "id": "430d4e0e",
   "metadata": {},
   "source": [
    "#### In classification the most straightforward metric is accuracy. It calculates the proportion of data points whose predicted labels exactly match the observed labels."
   ]
  },
  {
   "cell_type": "code",
   "execution_count": 21,
   "id": "19c58455",
   "metadata": {},
   "outputs": [
    {
     "data": {
      "text/plain": [
       "45"
      ]
     },
     "execution_count": 21,
     "metadata": {},
     "output_type": "execute_result"
    }
   ],
   "source": [
    "(y_pred==y_test.values).sum()\n",
    "y_test.size"
   ]
  },
  {
   "cell_type": "code",
   "execution_count": 22,
   "id": "43acc63e",
   "metadata": {},
   "outputs": [
    {
     "data": {
      "text/plain": [
       "0.9777777777777777"
      ]
     },
     "execution_count": 22,
     "metadata": {},
     "output_type": "execute_result"
    }
   ],
   "source": [
    "(y_pred==y_test.values).sum()/y_test.size #precisão de aproximadamente 98%"
   ]
  },
  {
   "cell_type": "markdown",
   "id": "10bab464",
   "metadata": {},
   "source": [
    "#### Classification accuracy alone can be misleading if there is an unequal number of observations in each class or if there are more than two classes in the dataset. Calculating a confusion matrix will provide a better idea of what the classification is getting right and what types of errors it is making.\n",
    "#### What is a confusion matrix? It is a summary of the counts of correct and incorrect predictions, broken down by each class.\n",
    "#### In classifying the iris, we can use confusion_matrix() under module sklearn.metrics:"
   ]
  },
  {
   "cell_type": "code",
   "execution_count": 23,
   "id": "6d02053d",
   "metadata": {},
   "outputs": [
    {
     "data": {
      "text/plain": [
       "array([[15,  0,  0],\n",
       "       [ 0, 15,  0],\n",
       "       [ 0,  1, 14]], dtype=int64)"
      ]
     },
     "execution_count": 23,
     "metadata": {},
     "output_type": "execute_result"
    }
   ],
   "source": [
    "from sklearn.metrics import confusion_matrix\n",
    "confusion_matrix(y_test, y_pred, labels=['setosa','versicolor','virginica'])"
   ]
  },
  {
   "cell_type": "code",
   "execution_count": 24,
   "id": "b1b900e1",
   "metadata": {},
   "outputs": [
    {
     "data": {
      "image/png": "[encoded data removed]",
      "text/plain": [
       "<Figure size 432x288 with 2 Axes>"
      ]
     },
     "metadata": {
      "needs_background": "light"
     },
     "output_type": "display_data"
    }
   ],
   "source": [
    "from sklearn.metrics import plot_confusion_matrix\n",
    "plot_confusion_matrix(knn, X_test, y_test, cmap=plt.cm.Blues);"
   ]
  },
  {
   "cell_type": "markdown",
   "id": "c2af2f32",
   "metadata": {},
   "source": [
    "#### Here we specified the labels in order. Each column of the matrix corresponds to a predicted class, and each row corresponds to an actual class. So the row sums up to the total number of instances of the class.\n",
    "#### The first row corresponds to the actual iris-setosa; [15, 0, 0] indicates that 15 of iris-setosa are correctly predicted, and none are mislabeled; while the last row [0, 1, 14] suggests that of 15 actual iris-virginica, 0 were predicted as iris-setosa, 1 was predicted to be iris-versicolor, and the remaining 14 were correctly identified as iris-virginica. This is consistent with our observation during exploratory data analysis, that is, there was some overlap between the two species on the scatter plot and it is more difficult to distinguish iris-versicolor from iris-virginica than identifying iris-setosa.\n",
    "#### A confusion matrix is a table that is often used to describe the performance of a classification model (or \"classifier\") on a set of test data for which the true values are known."
   ]
  },
  {
   "cell_type": "markdown",
   "id": "aedf837d",
   "metadata": {},
   "source": [
    "#### Previously we made train-test split before fitting the model so that we can report the model performance on the test data. This is a simple kind of cross validation technique, also known as the holdout method. However, the split is random, as a result, model performance can be sensitive to how the data is split. To overcome this, we introduce k-fold cross validation.\n",
    "#### In k fold cross validation, the data is divided into k subsets. Then the holdout method is repeated k times, such that each time, one of the k subsets is used as the test set and the other k-1 subsets are combined to train the model. Then the accuracy is averaged over k trials to provide total effectiveness of the model. In this way, all data points are used; and there are more metrics so we don’t rely on one test data for model performance evaluation.\n",
    "#### The simplest way to use k-fold cross-validation in scikit-learn is to call the cross_val_score function on the model and the dataset:"
   ]
  },
  {
   "cell_type": "code",
   "execution_count": 25,
   "id": "fb641b7d",
   "metadata": {},
   "outputs": [],
   "source": [
    "from sklearn.model_selection import cross_val_score\n",
    "# create a new KNN model\n",
    "knn_cv = KNeighborsClassifier(n_neighbors=3)\n",
    "# now we are fitting 3nn model"
   ]
  },
  {
   "cell_type": "markdown",
   "id": "e1edf814",
   "metadata": {},
   "source": [
    "#### Each of the holdout set contains 20% of the original data."
   ]
  },
  {
   "cell_type": "code",
   "execution_count": 26,
   "id": "a93a92ca",
   "metadata": {},
   "outputs": [],
   "source": [
    "# train model with 5-fold cv\n",
    "cv_scores = cross_val_score(knn_cv, X, y, cv=5)"
   ]
  },
  {
   "cell_type": "code",
   "execution_count": 27,
   "id": "dcd15fd1",
   "metadata": {},
   "outputs": [
    {
     "name": "stdout",
     "output_type": "stream",
     "text": [
      "[0.96666667 0.96666667 0.9        0.93333333 1.        ]\n"
     ]
    }
   ],
   "source": [
    "# print each cv score (accuracy)\n",
    "print(cv_scores)"
   ]
  },
  {
   "cell_type": "markdown",
   "id": "bf5c1906",
   "metadata": {},
   "source": [
    "#### As shown, due to the random assignments, the accuracies on the holdsets fluctuates from 0.9 to 1."
   ]
  },
  {
   "cell_type": "code",
   "execution_count": 28,
   "id": "9652526e",
   "metadata": {},
   "outputs": [
    {
     "data": {
      "text/plain": [
       "0.9533333333333334"
      ]
     },
     "execution_count": 28,
     "metadata": {},
     "output_type": "execute_result"
    }
   ],
   "source": [
    "# then average them\n",
    "cv_scores.mean()"
   ]
  },
  {
   "cell_type": "markdown",
   "id": "b5c85c11",
   "metadata": {},
   "source": [
    "#### We can not rely on one single train-test split, rather we report that the 3nn model has an accuracy of 95.33% based on a 5-fold cross validation.\n",
    "#### As a general rule, 5-fold or 10-fold cross validation is preferred; but there is no formal rule. As k gets larger, the difference in size between the training set and the resampling subsets gets smaller. As this difference decreases, the bias of the technique becomes smaller."
   ]
  },
  {
   "cell_type": "markdown",
   "id": "fe583c84",
   "metadata": {},
   "source": [
    "#### When we built our first knn model, we set the hyperparameter k to 5, and then to 3 later in k-fold cross validation; random choices really. What is the best k? Finding the optimal k is called tuning the hyperparameter. A handy tool is grid search. In scikit-learn, we use GridSearchCV, which trains our model multiple times on a range of values specified with the param_grid parameter and computes cross validation score, so that we can check which of our values for the tested hyperparameter performed the best."
   ]
  },
  {
   "cell_type": "code",
   "execution_count": 29,
   "id": "b3b11243",
   "metadata": {},
   "outputs": [
    {
     "data": {
      "text/plain": [
       "GridSearchCV(cv=5, estimator=KNeighborsClassifier(),\n",
       "             param_grid={'n_neighbors': array([2, 3, 4, 5, 6, 7, 8, 9])})"
      ]
     },
     "execution_count": 29,
     "metadata": {},
     "output_type": "execute_result"
    }
   ],
   "source": [
    "from sklearn.model_selection import GridSearchCV\n",
    "# create new a knn model\n",
    "knn2 = KNeighborsClassifier()\n",
    "# create a dict of all values we want to test for n_neighbors\n",
    "param_grid = {'n_neighbors': np.arange(2, 10)}\n",
    "# use gridsearch to test all values for n_neighbors\n",
    "knn_gscv = GridSearchCV(knn2, param_grid, cv=5)\n",
    "#fit model to data\n",
    "knn_gscv.fit(X, y)"
   ]
  },
  {
   "cell_type": "code",
   "execution_count": 30,
   "id": "739a170c",
   "metadata": {},
   "outputs": [
    {
     "data": {
      "text/plain": [
       "{'n_neighbors': 4}"
      ]
     },
     "execution_count": 30,
     "metadata": {},
     "output_type": "execute_result"
    }
   ],
   "source": [
    "knn_gscv.best_params_\n",
    "# to check the top performing n_neighbors"
   ]
  },
  {
   "cell_type": "markdown",
   "id": "70b617ed",
   "metadata": {},
   "source": [
    "#### We can see that 4 is the best value for n_neighbors. What is the accuracy of the model when k is 4?"
   ]
  },
  {
   "cell_type": "code",
   "execution_count": 31,
   "id": "94462612",
   "metadata": {},
   "outputs": [
    {
     "data": {
      "text/plain": [
       "0.9666666666666668"
      ]
     },
     "execution_count": 31,
     "metadata": {},
     "output_type": "execute_result"
    }
   ],
   "source": [
    "knn_gscv.best_score_"
   ]
  },
  {
   "cell_type": "markdown",
   "id": "a2a8f287",
   "metadata": {},
   "source": [
    "#### By using grid search to find the optimal hyperparameter for our model, it improves the model accuracy by over 1%.\n",
    "\n",
    "#### Now we are ready to build the final model:\n"
   ]
  },
  {
   "cell_type": "code",
   "execution_count": 32,
   "id": "c3e3ac9c",
   "metadata": {},
   "outputs": [
    {
     "data": {
      "text/plain": [
       "0.9733333333333334"
      ]
     },
     "execution_count": 32,
     "metadata": {},
     "output_type": "execute_result"
    }
   ],
   "source": [
    "knn_final = KNeighborsClassifier(n_neighbors=knn_gscv.best_params_['n_neighbors'])\n",
    "knn_final.fit(X,y)\n",
    "y_pred=knn_final.predict(X)\n",
    "knn_final.score(X,y)"
   ]
  },
  {
   "cell_type": "markdown",
   "id": "91d2b3a4",
   "metadata": {},
   "source": [
    "#### We can report that our final model, 4nn, has an accuracy of 97.3% in predicting the species of iris!"
   ]
  },
  {
   "cell_type": "markdown",
   "id": "858424b5",
   "metadata": {},
   "source": [
    "#### As técnicas de validação cruzada k-fold e parâmetros de ajuste com pesquisa de grade são aplicáveis ​​a problemas de classificação e regressão."
   ]
  },
  {
   "cell_type": "markdown",
   "id": "ccd1432c",
   "metadata": {},
   "source": [
    "## Deploy "
   ]
  },
  {
   "cell_type": "markdown",
   "id": "c44f9093",
   "metadata": {},
   "source": [
    "#### Now we are ready to deploy the model knn_final'. We take some measurements of an iris and record that the length and width of its sepal are 5.84 cm and 3.06 cm, respectively, and the length and width of its petal are 3.76 cm and 1.20 cm, respectively.\n",
    "#### Use model.predict. Since the model was trained on the length and width of petals, that’s the data we will need to make a prediction. Let’s put the petal length and petal width into a numpy array:"
   ]
  },
  {
   "cell_type": "code",
   "execution_count": 43,
   "id": "6a6c2992",
   "metadata": {},
   "outputs": [],
   "source": [
    "new_data=np.array([3.76,1.20])"
   ]
  },
  {
   "cell_type": "markdown",
   "id": "52d4fc9a",
   "metadata": {},
   "source": [
    "#### feeding the model"
   ]
  },
  {
   "cell_type": "markdown",
   "id": "79debe2f",
   "metadata": {},
   "source": [
    "#### When we trained the model, the data is 2D DataFrame, so the model was expecting a 2D array, which could be numpy array or pandas DataFrame. Now new_data is a 1D array, we need to make it 2D as the error message suggested:"
   ]
  },
  {
   "cell_type": "code",
   "execution_count": 44,
   "id": "a266db85",
   "metadata": {},
   "outputs": [],
   "source": [
    "new_data=new_data.reshape(1,-1)"
   ]
  },
  {
   "cell_type": "markdown",
   "id": "59ab3ffc",
   "metadata": {},
   "source": [
    "#### Now we are ready to make a label prediction:"
   ]
  },
  {
   "cell_type": "code",
   "execution_count": 45,
   "id": "33733c31",
   "metadata": {},
   "outputs": [
    {
     "data": {
      "text/plain": [
       "array(['versicolor'], dtype=object)"
      ]
     },
     "execution_count": 45,
     "metadata": {},
     "output_type": "execute_result"
    }
   ],
   "source": [
    "knn_final.predict(new_data)"
   ]
  },
  {
   "cell_type": "markdown",
   "id": "fa289b49",
   "metadata": {},
   "source": [
    "#### Our model predicts that this iris is a versicolor."
   ]
  },
  {
   "cell_type": "markdown",
   "id": "61c3ab24",
   "metadata": {},
   "source": [
    "#### Let's collect more data: three plants of iris share the same petal width, 2.25cm, but are different in the length of the petal: 5.03 cm, 3.85 cm, and 1.77 cm, respectively. We store the new data into a 2D array as follows:"
   ]
  },
  {
   "cell_type": "code",
   "execution_count": 46,
   "id": "c5bb2e35",
   "metadata": {},
   "outputs": [],
   "source": [
    "new_data2=np.array([[3.76,1.2],[5.25,1.2],[1.58,1.2]])"
   ]
  },
  {
   "cell_type": "code",
   "execution_count": 47,
   "id": "5ea4d40d",
   "metadata": {},
   "outputs": [
    {
     "data": {
      "text/plain": [
       "array(['versicolor', 'virginica', 'setosa'], dtype=object)"
      ]
     },
     "execution_count": 47,
     "metadata": {},
     "output_type": "execute_result"
    }
   ],
   "source": [
    "knn_final.predict(new_data2)"
   ]
  },
  {
   "cell_type": "markdown",
   "id": "9d1db581",
   "metadata": {},
   "source": [
    "#### Recall that in classifications, it is more common to predict the probability of each data point being assigned to each label:"
   ]
  },
  {
   "cell_type": "code",
   "execution_count": 49,
   "id": "20e981bd",
   "metadata": {},
   "outputs": [
    {
     "data": {
      "text/plain": [
       "array([[0.  , 1.  , 0.  ],\n",
       "       [0.  , 0.25, 0.75],\n",
       "       [1.  , 0.  , 0.  ]])"
      ]
     },
     "execution_count": 49,
     "metadata": {},
     "output_type": "execute_result"
    }
   ],
   "source": [
    "knn_final.predict_proba(new_data2)"
   ]
  },
  {
   "cell_type": "markdown",
   "id": "9db9dfef",
   "metadata": {},
   "source": [
    "#### Each row sums to 1. Take the second iris, our model predicts that there is a probability of 25% that the iris would be versicolor, and 75% virginica. This is consistent with the label prediction: virginica."
   ]
  },
  {
   "cell_type": "markdown",
   "id": "6454b7b6",
   "metadata": {},
   "source": [
    "## Final Test "
   ]
  },
  {
   "cell_type": "markdown",
   "id": "c485d4d7",
   "metadata": {},
   "source": [
    "## Data Science - Binary Disorder\n",
    "\n",
    "\n",
    "#### Confusion matrix of binary classification.\n",
    "\n",
    "#### For binary classifications, a confusion matrix is a two-by-two matrix to visualize the performance of an algorithm. Each row of the matrix represents the instances in a predicted class while each column represents the instances in an actual class.\n",
    "\n",
    "### Task\n",
    "#### Given two lists of 1s and 0s (1 represents the true label, and 0 represents the false false) of the same length, output a 2darrary of counts, each cell is defined as follows\n",
    "\n",
    "#### Top left: Predicted true and actually true (True positive)\n",
    "#### Top right: Predicted true but actually false (False positive)\n",
    "#### Bottom left: Predicted false but actually true (False negative)\n",
    "#### Bottom right: Predicted false and actually false (True negative)\n",
    "\n",
    "### Input Format\n",
    "#### First line: a list of 1s and 0s, separated by space. They are the actual binary labels.\n",
    "#### Second line: a list of 1s and 0s, the length is the same as the first line. They represented the predicted labels.\n",
    "\n",
    "### Output Format\n",
    "#### A numpy 2darray of two rows and two columns, the first row contains counts of true positives and false positives and the second row contains counts of false negatives and true negatives.\n",
    "\n",
    "#### Sample Input\n",
    "#### 1 1 0 0\n",
    "#### 1 0 0 0"
   ]
  },
  {
   "cell_type": "code",
   "execution_count": null,
   "id": "04a42feb",
   "metadata": {},
   "outputs": [],
   "source": [
    "y_true = [int(x) for x in input().split()]\n",
    "y_pred =  [int(x) for x in input().split()]\n",
    "from sklearn.metrics import confusion_matrix\n",
    "import numpy as np\n",
    "s =confusion_matrix(y_true, y_pred)\n",
    "a=np.flip(s)\n",
    "s[0][0], s[-1][-1]=s[-1][-1], s[0][0]\n",
    "s=s.astype(float)\n",
    "print(s)"
   ]
  }
 ],
 "metadata": {
  "kernelspec": {
   "display_name": "Python 3",
   "language": "python",
   "name": "python3"
  },
  "language_info": {
   "codemirror_mode": {
    "name": "ipython",
    "version": 3
   },
   "file_extension": ".py",
   "mimetype": "text/x-python",
   "name": "python",
   "nbconvert_exporter": "python",
   "pygments_lexer": "ipython3",
   "version": "3.8.8"
  }
 },
 "nbformat": 4,
 "nbformat_minor": 5
}
