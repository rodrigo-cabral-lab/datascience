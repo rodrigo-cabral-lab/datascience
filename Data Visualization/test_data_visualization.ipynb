{
 "cells": [
  {
   "cell_type": "markdown",
   "id": "962a83f3",
   "metadata": {},
   "source": [
    "## Data Science - Missing Numbers\n",
    "\n",
    "\n",
    "#### Imputing missing values.\n",
    "\n",
    "#### In the real world, you will often need to handle missing values. One way to impute (i.e., fill) the numerical column is to replace the null values with its mean.\n",
    "\n",
    "#### Task\n",
    "#### Given a list of numbers including some missing values, turn it into a pandas dataframe, impute the missing values with the mean, and finally return the dataframe.\n",
    "\n",
    "#### Input Format\n",
    "#### A list of numbers including one or more string \"nan\" to indicate a missing value.\n",
    "\n",
    "#### Output Format\n",
    "#### A list of imputed values where all values are rounded to its first decimal place.\n",
    "\n",
    "#### Sample Input\n",
    "#### 3 4 5 3 4 4 nan\n",
    "\n",
    "#### Sample Output\n",
    "#### 0 3.0\n",
    "#### 1 4.0\n",
    "#### 2 5.0\n",
    "#### 3 3.0\n",
    "#### 4 4.0\n",
    "#### 5 4.0\n",
    "#### 6 3.8\n",
    "#### dtype: float64"
   ]
  },
  {
   "cell_type": "code",
   "execution_count": null,
   "id": "2662bbf0",
   "metadata": {},
   "outputs": [],
   "source": [
    "import numpy as np\n",
    "import pandas as pd\n",
    "\n",
    "lst = [float(x) if x != 'nan' else np.NaN for x in input().split()]\n",
    "arr=np.asarray(lst)\n",
    "pd=pd.Series(arr)\n",
    "p=pd.fillna(pd.mean().round(1))\n",
    "print(p)"
   ]
  }
 ],
 "metadata": {
  "kernelspec": {
   "display_name": "Python 3",
   "language": "python",
   "name": "python3"
  },
  "language_info": {
   "codemirror_mode": {
    "name": "ipython",
    "version": 3
   },
   "file_extension": ".py",
   "mimetype": "text/x-python",
   "name": "python",
   "nbconvert_exporter": "python",
   "pygments_lexer": "ipython3",
   "version": "3.8.8"
  }
 },
 "nbformat": 4,
 "nbformat_minor": 5
}
